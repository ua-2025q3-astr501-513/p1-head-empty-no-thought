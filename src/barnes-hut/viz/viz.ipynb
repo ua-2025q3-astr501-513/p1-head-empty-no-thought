{
 "cells": [
  {
   "cell_type": "markdown",
   "id": "0dd311b9",
   "metadata": {},
   "source": [
    "## >> trying this with a new library..."
   ]
  },
  {
   "cell_type": "code",
   "execution_count": null,
   "id": "5fec5a2b",
   "metadata": {},
   "outputs": [],
   "source": [
    "from viz import make_viz"
   ]
  },
  {
   "cell_type": "code",
   "execution_count": 64,
   "id": "2c402f34",
   "metadata": {},
   "outputs": [],
   "source": [
    "PC = 3.086e+16"
   ]
  },
  {
   "cell_type": "code",
   "execution_count": null,
   "id": "4a5aa84e",
   "metadata": {},
   "outputs": [],
   "source": [
    "# >>> what is the name of your data/* directory that your *.dat files are in?\n",
    "datadir = 'krouppa'\n",
    "rad_multiplier = 2\n",
    "\n",
    "make_viz( datadir, rad_multiplier )"
   ]
  },
  {
   "cell_type": "markdown",
   "id": "8cabe411",
   "metadata": {},
   "source": [
    "you'll need to run the following line in the same directory as the newly created images:\n",
    "\n",
    "`ffmpeg -framerate 20 -i frame_%05d.png -c:v libx264 -pix_fmt yuv420p NAME.mp4`\n",
    "\n",
    "where **NAME** is the filename you want for the visualization. make sure you have `ffmpeg` installed by running `ffmpeg -version` in your terminal beforehand."
   ]
  },
  {
   "cell_type": "code",
   "execution_count": null,
   "id": "084d42a3",
   "metadata": {},
   "outputs": [],
   "source": []
  }
 ],
 "metadata": {
  "kernelspec": {
   "display_name": "astr513",
   "language": "python",
   "name": "python3"
  },
  "language_info": {
   "codemirror_mode": {
    "name": "ipython",
    "version": 3
   },
   "file_extension": ".py",
   "mimetype": "text/x-python",
   "name": "python",
   "nbconvert_exporter": "python",
   "pygments_lexer": "ipython3",
   "version": "3.11.13"
  }
 },
 "nbformat": 4,
 "nbformat_minor": 5
}
